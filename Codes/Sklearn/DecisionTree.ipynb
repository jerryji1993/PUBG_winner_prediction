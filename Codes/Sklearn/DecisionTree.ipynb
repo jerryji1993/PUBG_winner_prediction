{
  "cells": [
    {
      "metadata": {
        "_uuid": "8f2839f25d086af736a60e9eeb907d3b93b6e0e5",
        "_cell_guid": "b1076dfc-b9ad-4769-8c92-a6c4dae69d19",
        "trusted": true
      },
      "cell_type": "code",
      "source": "import pandas as pd\nfrom sklearn import preprocessing\nimport numpy as np\nimport matplotlib.pyplot as plt\nfrom sklearn.linear_model import LinearRegression\nfrom sklearn.linear_model import LogisticRegression\nfrom sklearn import linear_model\nfrom sklearn.svm import LinearSVR\nimport gc, sys\nimport time\ngc.enable()\n\nINPUT_DIR = \"../input/\"\n\ndef feature_engineering(is_train=True):\n\n    if is_train:\n        print(\"processing train.csv\")\n        #df = pd.read_csv(INPUT_DIR + 'train_V2.csv', nrows = 10000)\n        df = pd.read_csv(INPUT_DIR + 'train_V2.csv')\n        df = df[df['maxPlace'] > 1]\n    else:\n        print(\"processing test.csv\")\n        #df = pd.read_csv(INPUT_DIR + 'test_V2.csv', nrows = 10000)\n        df = pd.read_csv(INPUT_DIR + 'test_V2.csv')\n    # df = reduce_mem_usage(df)\n    df['totalDistance'] = df['rideDistance'] + df[\"walkDistance\"] + df[\"swimDistance\"]\n\n\n\n    print(\"remove some columns\")\n    target = 'winPlacePerc'\n    features = list(df.columns)\n    features.remove(\"Id\")\n    features.remove(\"matchId\")\n    features.remove(\"groupId\")\n\n    features.remove(\"matchType\")\n\n\n    y = None\n\n    print(\"get target\")\n    if is_train:\n        y = np.array(df.groupby(['matchId', 'groupId'])[target].agg('mean'), dtype=np.float64)\n        features.remove(target)\n\n    print(\"get group mean feature\")\n    agg = df.groupby(['matchId', 'groupId'])[features].agg('mean')\n    #agg_rank = agg.groupby('matchId')[features].rank(pct=True).reset_index()\n\n    if is_train:\n        df_out = agg.reset_index()[['matchId', 'groupId']]\n    else:\n        df_out = df[['matchId', 'groupId']]\n\n    df_out = df_out.merge(agg.reset_index(), suffixes=[\"\", \"\"], how='left', on=['matchId', 'groupId'])\n\n\n    df_out.drop([\"matchId\", \"groupId\"], axis=1, inplace=True)\n\n    X = np.array(df_out, dtype=np.float64)\n\n    feature_names = list(df_out.columns)\n\n    del df, df_out, agg\n    gc.collect()\n\n    return X, y, feature_names\n\n\ndata_x, y, feature_names = feature_engineering(True)\nw0 = 0.1* np.random.rand(data_x.shape[1]+ 1, 1)\n\nx_means = np.mean(data_x,axis = 0)[np.newaxis,:]\nx_stds = np.std(data_x,axis = 0)[np.newaxis,:]\nx = (data_x - x_means)/(x_stds+0.0000001)\n\nprint (x.shape)\nprint (y.shape)\n# y = 2 * y - 1\nfrom sklearn.tree import DecisionTreeRegressor\n\nreg = DecisionTreeRegressor().fit(x, y)\n\n#print (reg.score(x, y))\n#print (reg.coef_)\n#print (reg.intercept_)\n\n#print (np.array(reg.coef_).shape)\n#print (np.array(reg.intercept_).shape)\n\n\nx_test, _, _ = feature_engineering(False)\nx_means = np.mean(x_test,axis = 0)[np.newaxis,:]\nx_stds = np.std(x_test,axis = 0)[np.newaxis,:]\nx_test = (x_test - x_means)/(x_stds+0.0000001)\nprint(x_test.shape)\n\ny_predict = reg.predict(x_test)\ny_predict = y_predict.reshape(-1,1)\n\n#yy = reg.predict(x_test)\n#yy = yy.reshape(-1,1)\n#print (yy[:100])\n#print (y_predict[:100][:])\n#y_predict = (y_predict + 1) / 2\n'''\nfrom sklearn.preprocessing import MinMaxScaler\nscaler = MinMaxScaler()\n# y_predict = y_predict[:,1]\nprint(y_predict.shape)\n# y_predict = y_predict.reshape(-1,1)\nscaler.fit(y_predict)\ny_predict = scaler.transform(y_predict)\n'''\n\ndf_test = pd.read_csv(INPUT_DIR + 'test_V2.csv')\n'''\ndf_test['winPlacePerc'] = y_predict\n\nfor i in range(len(df_test)):\n    winPlacePerc = y_predict[i][0]\n    maxPlace = int(df_test.iloc[i]['maxPlace'])\n    if maxPlace == 0:\n        winPlacePerc = 0.0\n\n    elif maxPlace == 1:\n        winPlacePerc = 1.0\n    else:\n        gap = 1.0 / (maxPlace - 1)\n        winPlacePerc = round(winPlacePerc / gap) * gap\n\n    if winPlacePerc < 0: winPlacePerc = 0.0\n    if winPlacePerc > 1: winPlacePerc = 1.0\n    y_predict[i][0] = winPlacePerc\n'''\n\n\ndf_test['winPlacePerc'] = y_predict\nsubmission = df_test[['Id', 'winPlacePerc']]\nsubmission.to_csv('DT.csv', index=False)\n\n",
      "execution_count": null,
      "outputs": []
    },
    {
      "metadata": {
        "_cell_guid": "79c7e3d0-c299-4dcb-8224-4455121ee9b0",
        "collapsed": true,
        "_uuid": "d629ff2d2480ee46fbb7e2d37f6b5fab8052498a",
        "trusted": false
      },
      "cell_type": "code",
      "source": "",
      "execution_count": null,
      "outputs": []
    }
  ],
  "metadata": {
    "kernelspec": {
      "display_name": "Python 3",
      "language": "python",
      "name": "python3"
    },
    "language_info": {
      "name": "python",
      "version": "3.6.6",
      "mimetype": "text/x-python",
      "codemirror_mode": {
        "name": "ipython",
        "version": 3
      },
      "pygments_lexer": "ipython3",
      "nbconvert_exporter": "python",
      "file_extension": ".py"
    }
  },
  "nbformat": 4,
  "nbformat_minor": 1
}